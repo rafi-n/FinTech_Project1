{
 "cells": [
  {
   "cell_type": "markdown",
   "id": "23fbfa95-dd56-4c8e-9f42-f94a08f3d7ea",
   "metadata": {},
   "source": [
    "# One Portfolio to Rule Them All!\n",
    "\n",
    "This project will analyze portfolios consisting of different combinations of crypto and securities (markets) to determine which will provide the best return now and into the future. The analysis will be done in the following steps:\n",
    "\n",
    "1. Collect Data\n",
    "2. Analyze Data\n",
    "\n",
    "    a. Performance (returns)\n",
    "    \n",
    "    b. Risk\n",
    "    \n",
    "3. Monte Carlo Simulation"
   ]
  },
  {
   "cell_type": "code",
   "execution_count": null,
   "id": "02e1bc17-acb0-499d-b1ea-be80ddf16a20",
   "metadata": {},
   "outputs": [],
   "source": [
    "# Import all necessary libraries"
   ]
  },
  {
   "cell_type": "markdown",
   "id": "de9bcb1b-d160-481b-a425-e5b2ade0b065",
   "metadata": {},
   "source": [
    "## Collect Data"
   ]
  },
  {
   "cell_type": "code",
   "execution_count": null,
   "id": "08b50d38-b9ba-4de1-abca-53a33f01be29",
   "metadata": {},
   "outputs": [],
   "source": [
    "# Import data from API/csv into Pandas DataFrame"
   ]
  },
  {
   "cell_type": "code",
   "execution_count": null,
   "id": "87598ca6-3f26-4e4e-aec9-9cabec538da8",
   "metadata": {},
   "outputs": [],
   "source": [
    "# Review and clean data"
   ]
  },
  {
   "cell_type": "markdown",
   "id": "784ec7a1-27c5-490f-95ae-ed03ee7613f3",
   "metadata": {},
   "source": [
    "## Analyze Data"
   ]
  },
  {
   "cell_type": "markdown",
   "id": "54d7ec36-6c8d-4ac7-930b-eff5a896737a",
   "metadata": {},
   "source": [
    "### Returns\n",
    "\n",
    "We will find our daily returns to see how our portfolio performs across each data point (day). Then we will find the cumulative returns to see how our portfolio performs over the entire set of data points (the period)."
   ]
  },
  {
   "cell_type": "code",
   "execution_count": 1,
   "id": "2b7f807f-7809-43b8-8a00-b6d4043d50d5",
   "metadata": {},
   "outputs": [],
   "source": [
    "# Calculate returns (pct_change)"
   ]
  },
  {
   "cell_type": "code",
   "execution_count": 5,
   "id": "83d1566f-e04f-44f2-a116-111dee5ed97b",
   "metadata": {},
   "outputs": [],
   "source": [
    "# Plot the returns - this is strictly a visual to see if there are any anomalies"
   ]
  },
  {
   "cell_type": "code",
   "execution_count": 7,
   "id": "eea8c6e1-d15b-4f8d-9360-0fbb779b17d3",
   "metadata": {},
   "outputs": [],
   "source": [
    "# Calculate the cumulative returns - we want this to be as high as possible"
   ]
  },
  {
   "cell_type": "code",
   "execution_count": 8,
   "id": "d62324cf-f5eb-4ca2-ae9e-686600c421e0",
   "metadata": {},
   "outputs": [],
   "source": [
    "# Plot the cumulative returns "
   ]
  },
  {
   "cell_type": "markdown",
   "id": "c36ce6d7-4e18-485c-bd20-86906e302d00",
   "metadata": {},
   "source": [
    "### Risk\n",
    "\n",
    "Our risk analysis will involve finding the following:\n",
    "\n",
    "1. Standard Deviation\n",
    "2. Sharpe Ratio\n",
    "3. Correlation\n",
    "4. Beta"
   ]
  },
  {
   "cell_type": "markdown",
   "id": "1f608231-368a-45a7-92ff-c82e58810e86",
   "metadata": {},
   "source": [
    "#### Standard Deviation\n",
    "\n",
    "This will tell us how far our data has spread from its mean value. It's an indication that is proportional to risk."
   ]
  },
  {
   "cell_type": "code",
   "execution_count": 9,
   "id": "9a8f8135-b058-46e8-b25e-6c73cec498a2",
   "metadata": {},
   "outputs": [],
   "source": [
    "# Calculate standard deviation"
   ]
  },
  {
   "cell_type": "code",
   "execution_count": 10,
   "id": "b32c21ec-79c8-46e6-86e8-33008d374d9a",
   "metadata": {},
   "outputs": [],
   "source": [
    "# Create a box plot of std dev"
   ]
  },
  {
   "cell_type": "markdown",
   "id": "14a95ac2-2257-4f97-b086-f554c1117108",
   "metadata": {},
   "source": [
    "#### Sharpe Ratio\n",
    "\n",
    "This will tell us how much return we get vs. the amount of risk we incur. The higher the value, the better our returns are against the risk."
   ]
  },
  {
   "cell_type": "code",
   "execution_count": 11,
   "id": "23f1bda9-c0ce-402c-8f3c-d598fb5641e7",
   "metadata": {},
   "outputs": [],
   "source": [
    "# Calculate the Sharpe Ratio"
   ]
  },
  {
   "cell_type": "markdown",
   "id": "4d8a6cd9-b4e2-4f69-bbe0-04e3144585a6",
   "metadata": {},
   "source": [
    "#### Correlation\n",
    "\n",
    "This shows how diversified our portfolio is by examining its linearity. Lower corrleation means more diversification."
   ]
  },
  {
   "cell_type": "code",
   "execution_count": 13,
   "id": "b484ab87-f755-4288-94a0-be9f1c76366e",
   "metadata": {},
   "outputs": [],
   "source": [
    "# Calculate the correlation"
   ]
  },
  {
   "cell_type": "code",
   "execution_count": 14,
   "id": "e50a1799-1d8a-4973-81bb-f65a0bc1659c",
   "metadata": {},
   "outputs": [],
   "source": [
    "# Display the correlation matrix"
   ]
  },
  {
   "cell_type": "code",
   "execution_count": 15,
   "id": "d85fb205-37e5-4087-aa14-4d69931f39bf",
   "metadata": {},
   "outputs": [],
   "source": [
    "# Plot the correlation heatmap"
   ]
  },
  {
   "cell_type": "markdown",
   "id": "b56e34f4-7c86-49b2-a2f0-e137003a73ec",
   "metadata": {},
   "source": [
    "#### Beta\n",
    "\n",
    "This is a proportional measure of the volatility of our portfolio relative to the market."
   ]
  },
  {
   "cell_type": "code",
   "execution_count": 16,
   "id": "d0315d27-58aa-42be-a7e6-ac6fcccaa232",
   "metadata": {},
   "outputs": [],
   "source": [
    "# Calculate the Beta"
   ]
  },
  {
   "cell_type": "markdown",
   "id": "9c0fcb21-7656-4331-b42f-ab6e04d098e9",
   "metadata": {},
   "source": [
    "## Monte Carlo Simulation\n",
    "\n",
    "This will forecast our cumulative returns for many years into the future. "
   ]
  },
  {
   "cell_type": "code",
   "execution_count": 18,
   "id": "df873ac3-5107-4483-9fbb-e218eae24bee",
   "metadata": {},
   "outputs": [],
   "source": [
    "# Take our cleaned DataFrame from API and convert to appropriate currency"
   ]
  },
  {
   "cell_type": "code",
   "execution_count": 20,
   "id": "4c7f4360-1be7-4f08-80d4-dffd6e7f8791",
   "metadata": {},
   "outputs": [],
   "source": [
    "# Reorganize the DataFrame by tickers and combine them into a single DataFrame"
   ]
  },
  {
   "cell_type": "code",
   "execution_count": 21,
   "id": "b210a34a-49a2-43e1-8b27-c00c829fbf1a",
   "metadata": {},
   "outputs": [],
   "source": [
    "# Setup initial equal weighting for tickers"
   ]
  },
  {
   "cell_type": "code",
   "execution_count": 23,
   "id": "ab8d8a5c-a66d-455e-91f8-3bf1eaf2b49c",
   "metadata": {},
   "outputs": [],
   "source": [
    "# Setup & Run Monte Carlo Simulation for Y-years, W-weightings, N-simulations"
   ]
  },
  {
   "cell_type": "code",
   "execution_count": 24,
   "id": "a2115e7d-7c5d-402c-a3fa-77b0e65aa6c3",
   "metadata": {},
   "outputs": [],
   "source": [
    "# Plot the outcomes, distribution and print out summary"
   ]
  },
  {
   "cell_type": "code",
   "execution_count": null,
   "id": "5037b671-c99d-445c-b3e4-a064c82eec2e",
   "metadata": {},
   "outputs": [],
   "source": []
  }
 ],
 "metadata": {
  "kernelspec": {
   "display_name": "Python 3 (ipykernel)",
   "language": "python",
   "name": "python3"
  },
  "language_info": {
   "codemirror_mode": {
    "name": "ipython",
    "version": 3
   },
   "file_extension": ".py",
   "mimetype": "text/x-python",
   "name": "python",
   "nbconvert_exporter": "python",
   "pygments_lexer": "ipython3",
   "version": "3.7.13"
  }
 },
 "nbformat": 4,
 "nbformat_minor": 5
}
